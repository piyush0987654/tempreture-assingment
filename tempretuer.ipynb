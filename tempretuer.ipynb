{
  "nbformat": 4,
  "nbformat_minor": 0,
  "metadata": {
    "colab": {
      "provenance": []
    },
    "kernelspec": {
      "name": "python3",
      "display_name": "Python 3"
    },
    "language_info": {
      "name": "python"
    }
  },
  "cells": [
    {
      "cell_type": "code",
      "execution_count": 1,
      "metadata": {
        "colab": {
          "base_uri": "https://localhost:8080/"
        },
        "id": "2ryDHf5VG9rS",
        "outputId": "a6bce2ad-0243-41d3-92dc-c536af782d9f"
      },
      "outputs": [
        {
          "output_type": "execute_result",
          "data": {
            "text/plain": [
              "array([[11, 13, 20, 25,  6, 20,  9, 20, 11, 30,  8, 24, 10, 27],\n",
              "       [ 9, 23,  7, 27, 13, 23, 15, 29,  9, 29, 11, 27,  7, 22],\n",
              "       [11, 27, 13, 24, 13, 22, 15, 29, 13, 25,  8, 23, 13, 31],\n",
              "       [11, 24, 12, 25,  9, 22,  7, 21,  6, 26, 14, 27,  8, 30],\n",
              "       [ 8, 20,  6, 22,  8, 20,  8, 21,  5, 20,  6,  4, 20,  5],\n",
              "       [ 2, 20,  2, 22,  4, 19,  3, 19,  2, 21,  8,  2, 22,  3],\n",
              "       [ 7, 18,  6, 20,  6, 21,  7, 19,  8, 22,  3,  2, 18,  4],\n",
              "       [ 7, 21,  3, 19,  7, 19,  6, 20,  6, 20,  3,  2, 18,  3],\n",
              "       [10, 26, 11, 28, 14, 31,  9, 30, 11, 32,  7, 21, 10, 21],\n",
              "       [10, 28, 12, 30, 12, 26, 13, 24,  9, 24,  8, 24,  7, 23],\n",
              "       [ 7, 29, 11, 32,  8, 26, 10, 22, 10, 29,  6, 29, 12, 23],\n",
              "       [11, 27, 10, 29,  6, 32, 11, 27,  9, 28,  6, 23,  6, 27],\n",
              "       [10, 20,  7, 18, 10, 20, 12, 22,  9, 22, 12, 71, 19,  9],\n",
              "       [ 9, 18,  8, 18, 12, 19,  9, 20,  7, 18,  7, 11, 22, 10],\n",
              "       [ 9, 19, 10, 19,  9, 22,  9, 22,  7, 22, 10,  8, 22, 11],\n",
              "       [10, 22, 11, 18,  8, 19, 12, 22, 12, 18, 11, 10, 19, 12]])"
            ]
          },
          "metadata": {},
          "execution_count": 1
        }
      ],
      "source": [
        "import numpy as np\n",
        "nov = np.array([[11,13,20,25,6,20,9,20,11,30,8,24,10,27],[9,23,7,27,13,23,15,29,9,29,11,27,7,22],[11,27,13,24,13,22,15,29,13,25,8,23,13,31],[11,24,12,25,9,22,7,21,6,26,14,27,8,30],[8,20,6,22,8,20,8,21,5,20,6,4,20,5],[2,20,2,22,4,19,3,19,2,21,8,2,22,3],[7,18,6,20,6,21,7,19,8,22,3,2,18,4],[7,21,3,19,7,19,6,20,6,20,3,2,18,3],[10,26,11,28,14,31,9,30,11,32,7,21,10,21],[10,28,12,30,12,26,13,24,9,24,8,24,7,23],[7,29,11,32,8,26,10,22,10,29,6,29,12,23],[11,27,10,29,6,32,11,27,9,28,6,23,6,27],[10,20,7,18,10,20,12,22,9,22,12,71,19,9],[9,18,8,18,12,19,9,20,7,18,7,11,22,10],[9,19,10,19,9,22,9,22,7,22,10,8,22,11],[10,22,11,18,8,19,12,22,12,18,11,10,19,12]])\n",
        "nov"
      ]
    },
    {
      "cell_type": "code",
      "source": [
        "newshape = nov.reshape(4,4,7,2)\n",
        "newshape"
      ],
      "metadata": {
        "colab": {
          "base_uri": "https://localhost:8080/"
        },
        "id": "4pF0oHz8IyHh",
        "outputId": "a8089724-1cb5-4f66-ad19-19b499e1ed42"
      },
      "execution_count": 3,
      "outputs": [
        {
          "output_type": "execute_result",
          "data": {
            "text/plain": [
              "array([[[[11, 13],\n",
              "         [20, 25],\n",
              "         [ 6, 20],\n",
              "         [ 9, 20],\n",
              "         [11, 30],\n",
              "         [ 8, 24],\n",
              "         [10, 27]],\n",
              "\n",
              "        [[ 9, 23],\n",
              "         [ 7, 27],\n",
              "         [13, 23],\n",
              "         [15, 29],\n",
              "         [ 9, 29],\n",
              "         [11, 27],\n",
              "         [ 7, 22]],\n",
              "\n",
              "        [[11, 27],\n",
              "         [13, 24],\n",
              "         [13, 22],\n",
              "         [15, 29],\n",
              "         [13, 25],\n",
              "         [ 8, 23],\n",
              "         [13, 31]],\n",
              "\n",
              "        [[11, 24],\n",
              "         [12, 25],\n",
              "         [ 9, 22],\n",
              "         [ 7, 21],\n",
              "         [ 6, 26],\n",
              "         [14, 27],\n",
              "         [ 8, 30]]],\n",
              "\n",
              "\n",
              "       [[[ 8, 20],\n",
              "         [ 6, 22],\n",
              "         [ 8, 20],\n",
              "         [ 8, 21],\n",
              "         [ 5, 20],\n",
              "         [ 6,  4],\n",
              "         [20,  5]],\n",
              "\n",
              "        [[ 2, 20],\n",
              "         [ 2, 22],\n",
              "         [ 4, 19],\n",
              "         [ 3, 19],\n",
              "         [ 2, 21],\n",
              "         [ 8,  2],\n",
              "         [22,  3]],\n",
              "\n",
              "        [[ 7, 18],\n",
              "         [ 6, 20],\n",
              "         [ 6, 21],\n",
              "         [ 7, 19],\n",
              "         [ 8, 22],\n",
              "         [ 3,  2],\n",
              "         [18,  4]],\n",
              "\n",
              "        [[ 7, 21],\n",
              "         [ 3, 19],\n",
              "         [ 7, 19],\n",
              "         [ 6, 20],\n",
              "         [ 6, 20],\n",
              "         [ 3,  2],\n",
              "         [18,  3]]],\n",
              "\n",
              "\n",
              "       [[[10, 26],\n",
              "         [11, 28],\n",
              "         [14, 31],\n",
              "         [ 9, 30],\n",
              "         [11, 32],\n",
              "         [ 7, 21],\n",
              "         [10, 21]],\n",
              "\n",
              "        [[10, 28],\n",
              "         [12, 30],\n",
              "         [12, 26],\n",
              "         [13, 24],\n",
              "         [ 9, 24],\n",
              "         [ 8, 24],\n",
              "         [ 7, 23]],\n",
              "\n",
              "        [[ 7, 29],\n",
              "         [11, 32],\n",
              "         [ 8, 26],\n",
              "         [10, 22],\n",
              "         [10, 29],\n",
              "         [ 6, 29],\n",
              "         [12, 23]],\n",
              "\n",
              "        [[11, 27],\n",
              "         [10, 29],\n",
              "         [ 6, 32],\n",
              "         [11, 27],\n",
              "         [ 9, 28],\n",
              "         [ 6, 23],\n",
              "         [ 6, 27]]],\n",
              "\n",
              "\n",
              "       [[[10, 20],\n",
              "         [ 7, 18],\n",
              "         [10, 20],\n",
              "         [12, 22],\n",
              "         [ 9, 22],\n",
              "         [12, 71],\n",
              "         [19,  9]],\n",
              "\n",
              "        [[ 9, 18],\n",
              "         [ 8, 18],\n",
              "         [12, 19],\n",
              "         [ 9, 20],\n",
              "         [ 7, 18],\n",
              "         [ 7, 11],\n",
              "         [22, 10]],\n",
              "\n",
              "        [[ 9, 19],\n",
              "         [10, 19],\n",
              "         [ 9, 22],\n",
              "         [ 9, 22],\n",
              "         [ 7, 22],\n",
              "         [10,  8],\n",
              "         [22, 11]],\n",
              "\n",
              "        [[10, 22],\n",
              "         [11, 18],\n",
              "         [ 8, 19],\n",
              "         [12, 22],\n",
              "         [12, 18],\n",
              "         [11, 10],\n",
              "         [19, 12]]]])"
            ]
          },
          "metadata": {},
          "execution_count": 3
        }
      ]
    },
    {
      "cell_type": "code",
      "source": [
        "newshape.ndim\n"
      ],
      "metadata": {
        "colab": {
          "base_uri": "https://localhost:8080/"
        },
        "id": "-wNboBojLtQI",
        "outputId": "45006aae-b704-4986-d125-3b4eab336a49"
      },
      "execution_count": 9,
      "outputs": [
        {
          "output_type": "execute_result",
          "data": {
            "text/plain": [
              "4"
            ]
          },
          "metadata": {},
          "execution_count": 9
        }
      ]
    },
    {
      "cell_type": "code",
      "source": [
        "newshape.shape"
      ],
      "metadata": {
        "colab": {
          "base_uri": "https://localhost:8080/"
        },
        "id": "2SdqkdQnMUYW",
        "outputId": "4f7f0ac4-c578-458e-d89e-957b47e76440"
      },
      "execution_count": 8,
      "outputs": [
        {
          "output_type": "execute_result",
          "data": {
            "text/plain": [
              "(4, 4, 7, 2)"
            ]
          },
          "metadata": {},
          "execution_count": 8
        }
      ]
    },
    {
      "cell_type": "code",
      "source": [
        "newshape[0:5,0:1,0:8]"
      ],
      "metadata": {
        "colab": {
          "base_uri": "https://localhost:8080/"
        },
        "id": "kSm4oBBWMdfJ",
        "outputId": "c608659e-4154-4a78-8448-7c27699846f9"
      },
      "execution_count": 10,
      "outputs": [
        {
          "output_type": "execute_result",
          "data": {
            "text/plain": [
              "array([[[[11, 13],\n",
              "         [20, 25],\n",
              "         [ 6, 20],\n",
              "         [ 9, 20],\n",
              "         [11, 30],\n",
              "         [ 8, 24],\n",
              "         [10, 27]]],\n",
              "\n",
              "\n",
              "       [[[ 8, 20],\n",
              "         [ 6, 22],\n",
              "         [ 8, 20],\n",
              "         [ 8, 21],\n",
              "         [ 5, 20],\n",
              "         [ 6,  4],\n",
              "         [20,  5]]],\n",
              "\n",
              "\n",
              "       [[[10, 26],\n",
              "         [11, 28],\n",
              "         [14, 31],\n",
              "         [ 9, 30],\n",
              "         [11, 32],\n",
              "         [ 7, 21],\n",
              "         [10, 21]]],\n",
              "\n",
              "\n",
              "       [[[10, 20],\n",
              "         [ 7, 18],\n",
              "         [10, 20],\n",
              "         [12, 22],\n",
              "         [ 9, 22],\n",
              "         [12, 71],\n",
              "         [19,  9]]]])"
            ]
          },
          "metadata": {},
          "execution_count": 10
        }
      ]
    },
    {
      "cell_type": "code",
      "source": [
        "newshape[0:5,0:5,1:2]"
      ],
      "metadata": {
        "colab": {
          "base_uri": "https://localhost:8080/"
        },
        "id": "My3DFxuBMlkD",
        "outputId": "484b13b2-5f53-47e8-f820-cfcd8dc111f2"
      },
      "execution_count": 11,
      "outputs": [
        {
          "output_type": "execute_result",
          "data": {
            "text/plain": [
              "array([[[[20, 25]],\n",
              "\n",
              "        [[ 7, 27]],\n",
              "\n",
              "        [[13, 24]],\n",
              "\n",
              "        [[12, 25]]],\n",
              "\n",
              "\n",
              "       [[[ 6, 22]],\n",
              "\n",
              "        [[ 2, 22]],\n",
              "\n",
              "        [[ 6, 20]],\n",
              "\n",
              "        [[ 3, 19]]],\n",
              "\n",
              "\n",
              "       [[[11, 28]],\n",
              "\n",
              "        [[12, 30]],\n",
              "\n",
              "        [[11, 32]],\n",
              "\n",
              "        [[10, 29]]],\n",
              "\n",
              "\n",
              "       [[[ 7, 18]],\n",
              "\n",
              "        [[ 8, 18]],\n",
              "\n",
              "        [[10, 19]],\n",
              "\n",
              "        [[11, 18]]]])"
            ]
          },
          "metadata": {},
          "execution_count": 11
        }
      ]
    },
    {
      "cell_type": "code",
      "source": [
        "newshape[1:5:2,0:5,0:8,1:2]"
      ],
      "metadata": {
        "colab": {
          "base_uri": "https://localhost:8080/"
        },
        "id": "n-JKtMdFMrRZ",
        "outputId": "f687a9c8-5ace-4941-cc88-c7f2c7434fbe"
      },
      "execution_count": 12,
      "outputs": [
        {
          "output_type": "execute_result",
          "data": {
            "text/plain": [
              "array([[[[20],\n",
              "         [22],\n",
              "         [20],\n",
              "         [21],\n",
              "         [20],\n",
              "         [ 4],\n",
              "         [ 5]],\n",
              "\n",
              "        [[20],\n",
              "         [22],\n",
              "         [19],\n",
              "         [19],\n",
              "         [21],\n",
              "         [ 2],\n",
              "         [ 3]],\n",
              "\n",
              "        [[18],\n",
              "         [20],\n",
              "         [21],\n",
              "         [19],\n",
              "         [22],\n",
              "         [ 2],\n",
              "         [ 4]],\n",
              "\n",
              "        [[21],\n",
              "         [19],\n",
              "         [19],\n",
              "         [20],\n",
              "         [20],\n",
              "         [ 2],\n",
              "         [ 3]]],\n",
              "\n",
              "\n",
              "       [[[20],\n",
              "         [18],\n",
              "         [20],\n",
              "         [22],\n",
              "         [22],\n",
              "         [71],\n",
              "         [ 9]],\n",
              "\n",
              "        [[18],\n",
              "         [18],\n",
              "         [19],\n",
              "         [20],\n",
              "         [18],\n",
              "         [11],\n",
              "         [10]],\n",
              "\n",
              "        [[19],\n",
              "         [19],\n",
              "         [22],\n",
              "         [22],\n",
              "         [22],\n",
              "         [ 8],\n",
              "         [11]],\n",
              "\n",
              "        [[22],\n",
              "         [18],\n",
              "         [19],\n",
              "         [22],\n",
              "         [18],\n",
              "         [10],\n",
              "         [12]]]])"
            ]
          },
          "metadata": {},
          "execution_count": 12
        }
      ]
    },
    {
      "cell_type": "code",
      "source": [
        "newshape[1:3]>20"
      ],
      "metadata": {
        "colab": {
          "base_uri": "https://localhost:8080/"
        },
        "id": "Ptlu8HjaMzeC",
        "outputId": "9f5c2ba0-8b7a-4094-8ae3-e0e7cd432cfb"
      },
      "execution_count": 13,
      "outputs": [
        {
          "output_type": "execute_result",
          "data": {
            "text/plain": [
              "array([[[[False, False],\n",
              "         [False,  True],\n",
              "         [False, False],\n",
              "         [False,  True],\n",
              "         [False, False],\n",
              "         [False, False],\n",
              "         [False, False]],\n",
              "\n",
              "        [[False, False],\n",
              "         [False,  True],\n",
              "         [False, False],\n",
              "         [False, False],\n",
              "         [False,  True],\n",
              "         [False, False],\n",
              "         [ True, False]],\n",
              "\n",
              "        [[False, False],\n",
              "         [False, False],\n",
              "         [False,  True],\n",
              "         [False, False],\n",
              "         [False,  True],\n",
              "         [False, False],\n",
              "         [False, False]],\n",
              "\n",
              "        [[False,  True],\n",
              "         [False, False],\n",
              "         [False, False],\n",
              "         [False, False],\n",
              "         [False, False],\n",
              "         [False, False],\n",
              "         [False, False]]],\n",
              "\n",
              "\n",
              "       [[[False,  True],\n",
              "         [False,  True],\n",
              "         [False,  True],\n",
              "         [False,  True],\n",
              "         [False,  True],\n",
              "         [False,  True],\n",
              "         [False,  True]],\n",
              "\n",
              "        [[False,  True],\n",
              "         [False,  True],\n",
              "         [False,  True],\n",
              "         [False,  True],\n",
              "         [False,  True],\n",
              "         [False,  True],\n",
              "         [False,  True]],\n",
              "\n",
              "        [[False,  True],\n",
              "         [False,  True],\n",
              "         [False,  True],\n",
              "         [False,  True],\n",
              "         [False,  True],\n",
              "         [False,  True],\n",
              "         [False,  True]],\n",
              "\n",
              "        [[False,  True],\n",
              "         [False,  True],\n",
              "         [False,  True],\n",
              "         [False,  True],\n",
              "         [False,  True],\n",
              "         [False,  True],\n",
              "         [False,  True]]]])"
            ]
          },
          "metadata": {},
          "execution_count": 13
        }
      ]
    },
    {
      "cell_type": "code",
      "source": [],
      "metadata": {
        "id": "n2WC6oD9M6tz"
      },
      "execution_count": null,
      "outputs": []
    }
  ]
}